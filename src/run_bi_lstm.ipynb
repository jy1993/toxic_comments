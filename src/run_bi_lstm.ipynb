{
 "cells": [
  {
   "cell_type": "code",
   "execution_count": 1,
   "metadata": {
    "collapsed": false
   },
   "outputs": [
    {
     "name": "stderr",
     "output_type": "stream",
     "text": [
      "Using TensorFlow backend.\n"
     ]
    }
   ],
   "source": [
    "from b_bi_lstm import bi_lstm_main"
   ]
  },
  {
   "cell_type": "code",
   "execution_count": 2,
   "metadata": {
    "collapsed": false
   },
   "outputs": [
    {
     "name": "stdout",
     "output_type": "stream",
     "text": [
      "loading data\n",
      "(95851, 100) 95851\n",
      "WARNING:tensorflow:From D:\\anaconda\\lib\\site-packages\\keras-2.0.8-py3.6.egg\\keras\\backend\\tensorflow_backend.py:1163: calling reduce_sum (from tensorflow.python.ops.math_ops) with keep_dims is deprecated and will be removed in a future version.\n",
      "Instructions for updating:\n",
      "keep_dims is deprecated, use keepdims instead\n",
      "WARNING:tensorflow:From D:\\anaconda\\lib\\site-packages\\keras-2.0.8-py3.6.egg\\keras\\backend\\tensorflow_backend.py:1265: calling reduce_mean (from tensorflow.python.ops.math_ops) with keep_dims is deprecated and will be removed in a future version.\n",
      "Instructions for updating:\n",
      "keep_dims is deprecated, use keepdims instead\n",
      "trainging lstm model for toxic...\n",
      "Train on 86265 samples, validate on 9586 samples\n",
      "Epoch 1/3\n",
      "807s - loss: 0.1387 - acc: 0.9526 - val_loss: 0.1085 - val_acc: 0.9583\n",
      "Epoch 2/3\n",
      "788s - loss: 0.0905 - acc: 0.9668 - val_loss: 0.1063 - val_acc: 0.9610\n",
      "Epoch 3/3\n",
      "788s - loss: 0.0659 - acc: 0.9750 - val_loss: 0.1270 - val_acc: 0.9574\n",
      "saving model\n"
     ]
    }
   ],
   "source": [
    "bi_lstm_main('toxic', 3)"
   ]
  },
  {
   "cell_type": "code",
   "execution_count": null,
   "metadata": {
    "collapsed": true
   },
   "outputs": [],
   "source": []
  }
 ],
 "metadata": {
  "kernelspec": {
   "display_name": "Python 3",
   "language": "python",
   "name": "python3"
  },
  "language_info": {
   "codemirror_mode": {
    "name": "ipython",
    "version": 3
   },
   "file_extension": ".py",
   "mimetype": "text/x-python",
   "name": "python",
   "nbconvert_exporter": "python",
   "pygments_lexer": "ipython3",
   "version": "3.6.0"
  }
 },
 "nbformat": 4,
 "nbformat_minor": 2
}
