{
 "cells": [
  {
   "cell_type": "code",
   "execution_count": 1,
   "metadata": {
    "collapsed": false
   },
   "outputs": [
    {
     "name": "stderr",
     "output_type": "stream",
     "text": [
      "Using TensorFlow backend.\n"
     ]
    }
   ],
   "source": [
    "from b_lstm import lstm_main"
   ]
  },
  {
   "cell_type": "code",
   "execution_count": 2,
   "metadata": {
    "collapsed": false
   },
   "outputs": [
    {
     "name": "stdout",
     "output_type": "stream",
     "text": [
      "loading data\n",
      "(95851, 100) 95851\n",
      "WARNING:tensorflow:From D:\\anaconda\\lib\\site-packages\\keras-2.0.8-py3.6.egg\\keras\\backend\\tensorflow_backend.py:1163: calling reduce_sum (from tensorflow.python.ops.math_ops) with keep_dims is deprecated and will be removed in a future version.\n",
      "Instructions for updating:\n",
      "keep_dims is deprecated, use keepdims instead\n",
      "WARNING:tensorflow:From D:\\anaconda\\lib\\site-packages\\keras-2.0.8-py3.6.egg\\keras\\backend\\tensorflow_backend.py:1265: calling reduce_mean (from tensorflow.python.ops.math_ops) with keep_dims is deprecated and will be removed in a future version.\n",
      "Instructions for updating:\n",
      "keep_dims is deprecated, use keepdims instead\n",
      "trainging lstm model for toxic...\n",
      "Train on 86265 samples, validate on 9586 samples\n",
      "Epoch 1/2\n",
      "572s - loss: 0.1477 - acc: 0.9507 - val_loss: 0.1147 - val_acc: 0.9582\n",
      "Epoch 2/2\n",
      "584s - loss: 0.0940 - acc: 0.9660 - val_loss: 0.1106 - val_acc: 0.9590\n",
      "saving model\n"
     ]
    }
   ],
   "source": [
    "lstm_main('toxic', 2)"
   ]
  },
  {
   "cell_type": "code",
   "execution_count": 3,
   "metadata": {
    "collapsed": false
   },
   "outputs": [
    {
     "name": "stdout",
     "output_type": "stream",
     "text": [
      "loading data\n",
      "(95851, 100) 95851\n",
      "WARNING:tensorflow:From D:\\anaconda\\lib\\site-packages\\keras-2.0.8-py3.6.egg\\keras\\backend\\tensorflow_backend.py:1163: calling reduce_sum (from tensorflow.python.ops.math_ops) with keep_dims is deprecated and will be removed in a future version.\n",
      "Instructions for updating:\n",
      "keep_dims is deprecated, use keepdims instead\n",
      "WARNING:tensorflow:From D:\\anaconda\\lib\\site-packages\\keras-2.0.8-py3.6.egg\\keras\\backend\\tensorflow_backend.py:1265: calling reduce_mean (from tensorflow.python.ops.math_ops) with keep_dims is deprecated and will be removed in a future version.\n",
      "Instructions for updating:\n",
      "keep_dims is deprecated, use keepdims instead\n",
      "trainging lstm model for toxic...\n",
      "Train on 86265 samples, validate on 9586 samples\n",
      "Epoch 1/3\n",
      "590s - loss: 0.1463 - acc: 0.9502 - val_loss: 0.1107 - val_acc: 0.9602\n",
      "Epoch 2/3\n",
      "574s - loss: 0.0960 - acc: 0.9651 - val_loss: 0.1210 - val_acc: 0.9581\n",
      "Epoch 3/3\n",
      "563s - loss: 0.0755 - acc: 0.9717 - val_loss: 0.1169 - val_acc: 0.9597\n",
      "saving model\n"
     ]
    }
   ],
   "source": [
    "lstm_main('toxic', 3)"
   ]
  },
  {
   "cell_type": "code",
   "execution_count": 2,
   "metadata": {
    "collapsed": false
   },
   "outputs": [
    {
     "name": "stdout",
     "output_type": "stream",
     "text": [
      "loading data\n",
      "(95851, 260) (95851,)\n",
      "WARNING:tensorflow:From D:\\anaconda\\lib\\site-packages\\keras-2.0.8-py3.6.egg\\keras\\backend\\tensorflow_backend.py:1163: calling reduce_sum (from tensorflow.python.ops.math_ops) with keep_dims is deprecated and will be removed in a future version.\n",
      "Instructions for updating:\n",
      "keep_dims is deprecated, use keepdims instead\n",
      "WARNING:tensorflow:From D:\\anaconda\\lib\\site-packages\\keras-2.0.8-py3.6.egg\\keras\\backend\\tensorflow_backend.py:1265: calling reduce_mean (from tensorflow.python.ops.math_ops) with keep_dims is deprecated and will be removed in a future version.\n",
      "Instructions for updating:\n",
      "keep_dims is deprecated, use keepdims instead\n",
      "trainging lstm model for toxic...\n",
      "Train on 76680 samples, validate on 19171 samples\n",
      "Epoch 1/3\n",
      "1230s - loss: 0.1553 - acc: 0.9485 - val_loss: 0.1087 - val_acc: 0.9603\n",
      "Epoch 2/3\n",
      "1315s - loss: 0.0965 - acc: 0.9646 - val_loss: 0.1064 - val_acc: 0.9612\n",
      "Epoch 3/3\n",
      "1274s - loss: 0.0770 - acc: 0.9709 - val_loss: 0.1073 - val_acc: 0.9609\n",
      "saving model\n"
     ]
    }
   ],
   "source": [
    "#ver1\n",
    "lstm_main('toxic', 3, 1)"
   ]
  },
  {
   "cell_type": "code",
   "execution_count": 2,
   "metadata": {
    "collapsed": false
   },
   "outputs": [
    {
     "name": "stdout",
     "output_type": "stream",
     "text": [
      "loading data\n",
      "(95851, 100) (95851,)\n",
      "WARNING:tensorflow:From D:\\anaconda\\lib\\site-packages\\keras-2.0.9-py3.6.egg\\keras\\backend\\tensorflow_backend.py:1238: calling reduce_sum (from tensorflow.python.ops.math_ops) with keep_dims is deprecated and will be removed in a future version.\n",
      "Instructions for updating:\n",
      "keep_dims is deprecated, use keepdims instead\n",
      "WARNING:tensorflow:From D:\\anaconda\\lib\\site-packages\\keras-2.0.9-py3.6.egg\\keras\\backend\\tensorflow_backend.py:1340: calling reduce_mean (from tensorflow.python.ops.math_ops) with keep_dims is deprecated and will be removed in a future version.\n",
      "Instructions for updating:\n",
      "keep_dims is deprecated, use keepdims instead\n",
      "trainging lstm model for toxic...\n",
      "Train on 76680 samples, validate on 19171 samples\n",
      "Epoch 1/1\n",
      " - 774s - loss: 0.1498 - acc: 0.9496 - val_loss: 0.1094 - val_acc: 0.9600\n",
      "saving model\n"
     ]
    }
   ],
   "source": [
    "lstm_main('toxic', 1)"
   ]
  },
  {
   "cell_type": "code",
   "execution_count": 2,
   "metadata": {
    "collapsed": false
   },
   "outputs": [
    {
     "name": "stdout",
     "output_type": "stream",
     "text": [
      "loading data\n",
      "(95851, 100) (95851,)\n",
      "WARNING:tensorflow:From D:\\anaconda\\lib\\site-packages\\keras-2.0.9-py3.6.egg\\keras\\backend\\tensorflow_backend.py:1238: calling reduce_sum (from tensorflow.python.ops.math_ops) with keep_dims is deprecated and will be removed in a future version.\n",
      "Instructions for updating:\n",
      "keep_dims is deprecated, use keepdims instead\n",
      "WARNING:tensorflow:From D:\\anaconda\\lib\\site-packages\\keras-2.0.9-py3.6.egg\\keras\\backend\\tensorflow_backend.py:1340: calling reduce_mean (from tensorflow.python.ops.math_ops) with keep_dims is deprecated and will be removed in a future version.\n",
      "Instructions for updating:\n",
      "keep_dims is deprecated, use keepdims instead\n",
      "trainging lstm model for toxic...\n",
      "Train on 76680 samples, validate on 19171 samples\n",
      "Epoch 1/1\n",
      " - 781s - loss: 0.1529 - acc: 0.9492 - val_loss: 0.1122 - val_acc: 0.9597\n",
      "saving model\n"
     ]
    }
   ],
   "source": [
    "lstm_main('toxic', 1)"
   ]
  },
  {
   "cell_type": "code",
   "execution_count": 2,
   "metadata": {
    "collapsed": false
   },
   "outputs": [
    {
     "name": "stdout",
     "output_type": "stream",
     "text": [
      "loading data\n",
      "(95851, 260) (95851,)\n",
      "WARNING:tensorflow:From D:\\anaconda\\lib\\site-packages\\keras-2.0.9-py3.6.egg\\keras\\backend\\tensorflow_backend.py:1238: calling reduce_sum (from tensorflow.python.ops.math_ops) with keep_dims is deprecated and will be removed in a future version.\n",
      "Instructions for updating:\n",
      "keep_dims is deprecated, use keepdims instead\n",
      "WARNING:tensorflow:From D:\\anaconda\\lib\\site-packages\\keras-2.0.9-py3.6.egg\\keras\\backend\\tensorflow_backend.py:1340: calling reduce_mean (from tensorflow.python.ops.math_ops) with keep_dims is deprecated and will be removed in a future version.\n",
      "Instructions for updating:\n",
      "keep_dims is deprecated, use keepdims instead\n",
      "_________________________________________________________________\n",
      "Layer (type)                 Output Shape              Param #   \n",
      "=================================================================\n",
      "embedding_1 (Embedding)      (None, None, 128)         2560000   \n",
      "_________________________________________________________________\n",
      "lstm_1 (LSTM)                (None, 64)                49408     \n",
      "_________________________________________________________________\n",
      "dense_1 (Dense)              (None, 1)                 65        \n",
      "=================================================================\n",
      "Total params: 2,609,473\n",
      "Trainable params: 2,609,473\n",
      "Non-trainable params: 0\n",
      "_________________________________________________________________\n",
      "None\n",
      "trainging lstm model for toxic...\n",
      "Train on 76680 samples, validate on 19171 samples\n",
      "Epoch 1/2\n",
      " - 1048s - loss: 0.1615 - acc: 0.9462 - val_loss: 0.1107 - val_acc: 0.9604\n",
      "Epoch 2/2\n",
      " - 1036s - loss: 0.1038 - acc: 0.9626 - val_loss: 0.1038 - val_acc: 0.9640\n",
      "saving model\n"
     ]
    }
   ],
   "source": [
    "lstm_main(col='toxic', epochs=2, ver=1, mode='val', dropout=0.5)"
   ]
  },
  {
   "cell_type": "code",
   "execution_count": null,
   "metadata": {
    "collapsed": true
   },
   "outputs": [],
   "source": [
    "lstm_main('toxic', 1)"
   ]
  }
 ],
 "metadata": {
  "kernelspec": {
   "display_name": "Python 3",
   "language": "python",
   "name": "python3"
  },
  "language_info": {
   "codemirror_mode": {
    "name": "ipython",
    "version": 3
   },
   "file_extension": ".py",
   "mimetype": "text/x-python",
   "name": "python",
   "nbconvert_exporter": "python",
   "pygments_lexer": "ipython3",
   "version": "3.6.0"
  }
 },
 "nbformat": 4,
 "nbformat_minor": 2
}
