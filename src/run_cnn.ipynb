{
 "cells": [
  {
   "cell_type": "code",
   "execution_count": 1,
   "metadata": {
    "collapsed": false
   },
   "outputs": [
    {
     "name": "stderr",
     "output_type": "stream",
     "text": [
      "Using TensorFlow backend.\n"
     ]
    }
   ],
   "source": [
    "from b_cnn import cnn_main\n",
    "import warnings\n",
    "warnings.filterwarnings(\"ignore\")"
   ]
  },
  {
   "cell_type": "code",
   "execution_count": 2,
   "metadata": {
    "collapsed": false
   },
   "outputs": [
    {
     "name": "stdout",
     "output_type": "stream",
     "text": [
      "loading data\n",
      "shape of X_train: (95851, 100)\n",
      "WARNING:tensorflow:From D:\\anaconda\\lib\\site-packages\\tensorflow\\python\\util\\deprecation.py:381: calling conv1d (from tensorflow.python.ops.nn_ops) with data_format=NHWC is deprecated and will be removed in a future version.\n",
      "Instructions for updating:\n",
      "`NHWC` for data_format is deprecated, use `NWC` instead\n",
      "WARNING:tensorflow:From D:\\anaconda\\lib\\site-packages\\keras-2.0.8-py3.6.egg\\keras\\backend\\tensorflow_backend.py:1129: calling reduce_max (from tensorflow.python.ops.math_ops) with keep_dims is deprecated and will be removed in a future version.\n",
      "Instructions for updating:\n",
      "keep_dims is deprecated, use keepdims instead\n",
      "WARNING:tensorflow:From D:\\anaconda\\lib\\site-packages\\keras-2.0.8-py3.6.egg\\keras\\backend\\tensorflow_backend.py:1265: calling reduce_mean (from tensorflow.python.ops.math_ops) with keep_dims is deprecated and will be removed in a future version.\n",
      "Instructions for updating:\n",
      "keep_dims is deprecated, use keepdims instead\n",
      "trainging lstm model for severe_toxic...\n",
      "Train on 86265 samples, validate on 9586 samples\n",
      "Epoch 1/3\n",
      "216s - loss: 0.0370 - acc: 0.9899 - val_loss: 0.0247 - val_acc: 0.9910\n",
      "Epoch 2/3\n",
      "221s - loss: 0.0231 - acc: 0.9904 - val_loss: 0.0264 - val_acc: 0.9912\n",
      "Epoch 3/3\n",
      "219s - loss: 0.0183 - acc: 0.9918 - val_loss: 0.0299 - val_acc: 0.9896\n",
      "saving model\n"
     ]
    }
   ],
   "source": [
    "cnn_main(col='severe_toxic', epochs=1)"
   ]
  },
  {
   "cell_type": "code",
   "execution_count": 4,
   "metadata": {
    "collapsed": false
   },
   "outputs": [
    {
     "name": "stdout",
     "output_type": "stream",
     "text": [
      "loading data\n",
      "shape of X_train: (95851, 100)\n",
      "trainging lstm model for toxic...\n",
      "Train on 86265 samples, validate on 9586 samples\n",
      "Epoch 1/1\n",
      "227s - loss: 0.1534 - acc: 0.9465 - val_loss: 0.1199 - val_acc: 0.9555\n",
      "saving model\n"
     ]
    }
   ],
   "source": [
    "cnn_main(col='toxic', epochs=1)"
   ]
  },
  {
   "cell_type": "code",
   "execution_count": 2,
   "metadata": {
    "collapsed": false
   },
   "outputs": [
    {
     "name": "stdout",
     "output_type": "stream",
     "text": [
      "loading data\n",
      "shape of X_train: (95851, 100)\n",
      "WARNING:tensorflow:From D:\\anaconda\\lib\\site-packages\\tensorflow\\python\\util\\deprecation.py:381: calling conv1d (from tensorflow.python.ops.nn_ops) with data_format=NHWC is deprecated and will be removed in a future version.\n",
      "Instructions for updating:\n",
      "`NHWC` for data_format is deprecated, use `NWC` instead\n",
      "WARNING:tensorflow:From D:\\anaconda\\lib\\site-packages\\keras-2.0.8-py3.6.egg\\keras\\backend\\tensorflow_backend.py:1129: calling reduce_max (from tensorflow.python.ops.math_ops) with keep_dims is deprecated and will be removed in a future version.\n",
      "Instructions for updating:\n",
      "keep_dims is deprecated, use keepdims instead\n",
      "WARNING:tensorflow:From D:\\anaconda\\lib\\site-packages\\keras-2.0.8-py3.6.egg\\keras\\backend\\tensorflow_backend.py:1265: calling reduce_mean (from tensorflow.python.ops.math_ops) with keep_dims is deprecated and will be removed in a future version.\n",
      "Instructions for updating:\n",
      "keep_dims is deprecated, use keepdims instead\n",
      "trainging cnn model for obscene...\n",
      "Train on 86265 samples, validate on 9586 samples\n",
      "Epoch 1/1\n",
      "228s - loss: 0.0885 - acc: 0.9724 - val_loss: 0.0681 - val_acc: 0.9776\n",
      "saving model\n"
     ]
    }
   ],
   "source": [
    "cnn_main(col='obscene', epochs=1)"
   ]
  },
  {
   "cell_type": "code",
   "execution_count": 2,
   "metadata": {
    "collapsed": false
   },
   "outputs": [
    {
     "name": "stdout",
     "output_type": "stream",
     "text": [
      "loading data\n",
      "shape of X_train: (95851, 100)\n",
      "WARNING:tensorflow:From D:\\anaconda\\lib\\site-packages\\tensorflow\\python\\util\\deprecation.py:381: calling conv1d (from tensorflow.python.ops.nn_ops) with data_format=NHWC is deprecated and will be removed in a future version.\n",
      "Instructions for updating:\n",
      "`NHWC` for data_format is deprecated, use `NWC` instead\n",
      "WARNING:tensorflow:From D:\\anaconda\\lib\\site-packages\\keras-2.0.8-py3.6.egg\\keras\\backend\\tensorflow_backend.py:1129: calling reduce_max (from tensorflow.python.ops.math_ops) with keep_dims is deprecated and will be removed in a future version.\n",
      "Instructions for updating:\n",
      "keep_dims is deprecated, use keepdims instead\n",
      "WARNING:tensorflow:From D:\\anaconda\\lib\\site-packages\\keras-2.0.8-py3.6.egg\\keras\\backend\\tensorflow_backend.py:1265: calling reduce_mean (from tensorflow.python.ops.math_ops) with keep_dims is deprecated and will be removed in a future version.\n",
      "Instructions for updating:\n",
      "keep_dims is deprecated, use keepdims instead\n",
      "trainging cnn model for threat...\n",
      "Train on 86265 samples, validate on 9586 samples\n",
      "Epoch 1/1\n",
      "220s - loss: 0.0204 - acc: 0.9967 - val_loss: 0.0120 - val_acc: 0.9970\n",
      "saving model\n"
     ]
    }
   ],
   "source": [
    "cnn_main(col='threat', epochs=1)"
   ]
  },
  {
   "cell_type": "code",
   "execution_count": 3,
   "metadata": {
    "collapsed": false
   },
   "outputs": [
    {
     "name": "stdout",
     "output_type": "stream",
     "text": [
      "loading data\n",
      "shape of X_train: (95851, 100)\n",
      "trainging cnn model for insult...\n",
      "Train on 86265 samples, validate on 9586 samples\n",
      "Epoch 1/3\n",
      "221s - loss: 0.1047 - acc: 0.9648 - val_loss: 0.0784 - val_acc: 0.9715\n",
      "Epoch 2/3\n",
      "212s - loss: 0.0630 - acc: 0.9755 - val_loss: 0.0788 - val_acc: 0.9691\n",
      "Epoch 3/3\n",
      "215s - loss: 0.0495 - acc: 0.9797 - val_loss: 0.0901 - val_acc: 0.9700\n",
      "saving model\n"
     ]
    }
   ],
   "source": [
    "cnn_main(col='insult', epochs=3)"
   ]
  },
  {
   "cell_type": "code",
   "execution_count": 4,
   "metadata": {
    "collapsed": false
   },
   "outputs": [
    {
     "name": "stdout",
     "output_type": "stream",
     "text": [
      "loading data\n",
      "shape of X_train: (95851, 100)\n",
      "trainging cnn model for identity_hate...\n",
      "Train on 86265 samples, validate on 9586 samples\n",
      "Epoch 1/3\n",
      "217s - loss: 0.0388 - acc: 0.9916 - val_loss: 0.0295 - val_acc: 0.9917\n",
      "Epoch 2/3\n",
      "224s - loss: 0.0224 - acc: 0.9930 - val_loss: 0.0281 - val_acc: 0.9917\n",
      "Epoch 3/3\n",
      "218s - loss: 0.0160 - acc: 0.9940 - val_loss: 0.0336 - val_acc: 0.9917\n",
      "saving model\n"
     ]
    }
   ],
   "source": [
    "cnn_main(col='identity_hate', epochs=3)"
   ]
  },
  {
   "cell_type": "code",
   "execution_count": null,
   "metadata": {
    "collapsed": true
   },
   "outputs": [],
   "source": []
  }
 ],
 "metadata": {
  "kernelspec": {
   "display_name": "Python 3",
   "language": "python",
   "name": "python3"
  },
  "language_info": {
   "codemirror_mode": {
    "name": "ipython",
    "version": 3
   },
   "file_extension": ".py",
   "mimetype": "text/x-python",
   "name": "python",
   "nbconvert_exporter": "python",
   "pygments_lexer": "ipython3",
   "version": "3.6.0"
  }
 },
 "nbformat": 4,
 "nbformat_minor": 2
}
